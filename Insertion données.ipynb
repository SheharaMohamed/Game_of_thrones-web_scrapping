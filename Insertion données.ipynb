{
 "cells": [
  {
   "cell_type": "code",
   "execution_count": 1,
   "id": "annoying-absence",
   "metadata": {},
   "outputs": [],
   "source": [
    "import pymysql as ps\n",
    "import pandas as pd\n",
    "import numpy as np"
   ]
  },
  {
   "cell_type": "code",
   "execution_count": 5,
   "id": "manufactured-aberdeen",
   "metadata": {},
   "outputs": [
    {
     "name": "stdout",
     "output_type": "stream",
     "text": [
      "Connection successfull\n"
     ]
    }
   ],
   "source": [
    "#Coonection à server mysql\n",
    "connection = ps.connect(host = 'localhost',\n",
    "                       user = 'root',\n",
    "                       password = 'Tashe@1129',\n",
    "                       database = 'series')\n",
    "                        \n",
    "try:                       \n",
    "    cur = connection.cursor()\n",
    "    print(\"Connection successfull\")\n",
    "    \n",
    "except mysql.connector.Error as error:\n",
    "    print(\"Error in connection: \",error)"
   ]
  },
  {
   "cell_type": "code",
   "execution_count": 6,
   "id": "utility-antigua",
   "metadata": {},
   "outputs": [
    {
     "name": "stdout",
     "output_type": "stream",
     "text": [
      "L'exécution de la requête est réussie\n"
     ]
    }
   ],
   "source": [
    "data = pd.read_csv(\"inputs/acteurs_df.csv\")\n",
    "data\n",
    "\n",
    "# Création d'un noiveau record\n",
    "sql_insert = \"INSERT INTO Acteur VALUES (%s, %s)\"\n",
    "\n",
    "# Execution de la requete\n",
    "\n",
    "try:\n",
    "    for ligne in data.iterrows():\n",
    "        temp = tuple(ligne[1])\n",
    "        cur.execute(sql_insert,temp)\n",
    "\n",
    "        # commiter l'execution afin de sauvegarder les changemens\n",
    "        connection.commit()\n",
    "    print(\"L'exécution de la requête est réussie\")\n",
    "\n",
    "except ps.Error as e:\n",
    "    print(\"Une erreur s'est produite lors de l'exécution de la requête: \",e)"
   ]
  },
  {
   "cell_type": "code",
   "execution_count": 7,
   "id": "processed-opportunity",
   "metadata": {},
   "outputs": [
    {
     "name": "stdout",
     "output_type": "stream",
     "text": [
      "L'exécution de la requête est réussie\n"
     ]
    }
   ],
   "source": [
    "data = pd.read_csv(\"inputs/roles_df.csv\")\n",
    "data\n",
    "\n",
    "# Création d'un noiveau record\n",
    "sql_insert = \"INSERT INTO Rôle VALUES (%s, %s)\"\n",
    "\n",
    "# Execution de la requete\n",
    "\n",
    "try:\n",
    "    for ligne in data.iterrows():\n",
    "        temp = tuple(ligne[1])\n",
    "        cur.execute(sql_insert,temp)\n",
    "\n",
    "        # commiter l'execution afin de sauvegarder les changemens\n",
    "        connection.commit()\n",
    "    print(\"L'exécution de la requête est réussie\")\n",
    "\n",
    "except ps.Error as e:\n",
    "    print(\"Une erreur s'est produite lors de l'exécution de la requête: \",e)"
   ]
  },
  {
   "cell_type": "code",
   "execution_count": 8,
   "id": "foster-gentleman",
   "metadata": {},
   "outputs": [
    {
     "name": "stdout",
     "output_type": "stream",
     "text": [
      "L'exécution de la requête est réussie\n"
     ]
    }
   ],
   "source": [
    "data = pd.read_csv(\"inputs/series_df.csv\")\n",
    "data\n",
    "\n",
    "# Création d'un noiveau record\n",
    "sql_insert = \"INSERT INTO Série VALUES (%s, %s)\"\n",
    "\n",
    "# Execution de la requete\n",
    "\n",
    "try:\n",
    "    for ligne in data.iterrows():\n",
    "        temp = tuple(ligne[1])\n",
    "        cur.execute(sql_insert,temp)\n",
    "\n",
    "        # commiter l'execution afin de sauvegarder les changemens\n",
    "        connection.commit()\n",
    "    print(\"L'exécution de la requête est réussie\")\n",
    "\n",
    "except ps.Error as e:\n",
    "    print(\"Une erreur s'est produite lors de l'exécution de la requête: \",e)"
   ]
  },
  {
   "cell_type": "code",
   "execution_count": 9,
   "id": "mobile-navigation",
   "metadata": {},
   "outputs": [
    {
     "name": "stdout",
     "output_type": "stream",
     "text": [
      "L'exécution de la requête est réussie\n"
     ]
    }
   ],
   "source": [
    "data = pd.read_csv(\"inputs/episodes_df.csv\")\n",
    "data\n",
    "\n",
    "# Création d'un noiveau record\n",
    "sql_insert = \"INSERT INTO Episode VALUES (%s, %s, %s, %s, %s, %s, %s)\"\n",
    "\n",
    "# Execution de la requete\n",
    "\n",
    "try:\n",
    "    for ligne in data.iterrows():\n",
    "        temp = tuple(ligne[1])\n",
    "        cur.execute(sql_insert,temp)\n",
    "\n",
    "        # commiter l'execution afin de sauvegarder les changemens\n",
    "        connection.commit()\n",
    "    print(\"L'exécution de la requête est réussie\")\n",
    "\n",
    "except ps.Error as e:\n",
    "    print(\"Une erreur s'est produite lors de l'exécution de la requête: \",e)"
   ]
  },
  {
   "cell_type": "code",
   "execution_count": 10,
   "id": "hearing-petite",
   "metadata": {},
   "outputs": [
    {
     "name": "stdout",
     "output_type": "stream",
     "text": [
      "L'exécution de la requête est réussie\n"
     ]
    }
   ],
   "source": [
    "data = pd.read_csv(\"inputs/episode_role_df.csv\")\n",
    "data\n",
    "\n",
    "# Création d'un noiveau record\n",
    "sql_insert = \"INSERT INTO Episode_role VALUES (%s, %s)\"\n",
    "\n",
    "# Execution de la requete\n",
    "\n",
    "try:\n",
    "    for ligne in data.iterrows():\n",
    "        temp = tuple(ligne[1])\n",
    "        cur.execute(sql_insert,temp)\n",
    "\n",
    "        # commiter l'execution afin de sauvegarder les changemens\n",
    "        connection.commit()\n",
    "    print(\"L'exécution de la requête est réussie\")\n",
    "\n",
    "except ps.Error as e:\n",
    "    print(\"Une erreur s'est produite lors de l'exécution de la requête: \",e)"
   ]
  },
  {
   "cell_type": "code",
   "execution_count": 11,
   "id": "productive-yugoslavia",
   "metadata": {},
   "outputs": [
    {
     "name": "stdout",
     "output_type": "stream",
     "text": [
      "L'exécution de la requête est réussie\n"
     ]
    }
   ],
   "source": [
    "data = pd.read_csv(\"inputs/acteur_role_df.csv\")\n",
    "data\n",
    "\n",
    "# Création d'un noiveau record\n",
    "sql_insert = \"INSERT INTO Acteur_role VALUES (%s, %s)\"\n",
    "\n",
    "# Execution de la requete\n",
    "\n",
    "try:\n",
    "    for ligne in data.iterrows():\n",
    "        temp = tuple(ligne[1])\n",
    "        cur.execute(sql_insert,temp)\n",
    "\n",
    "        # commiter l'execution afin de sauvegarder les changemens\n",
    "        connection.commit()\n",
    "    print(\"L'exécution de la requête est réussie\")\n",
    "\n",
    "except ps.Error as e:\n",
    "    print(\"Une erreur s'est produite lors de l'exécution de la requête: \",e)"
   ]
  },
  {
   "cell_type": "code",
   "execution_count": 1,
   "id": "varied-stream",
   "metadata": {},
   "outputs": [
    {
     "ename": "NameError",
     "evalue": "name 'connection' is not defined",
     "output_type": "error",
     "traceback": [
      "\u001b[1;31m---------------------------------------------------------------------------\u001b[0m",
      "\u001b[1;31mNameError\u001b[0m                                 Traceback (most recent call last)",
      "\u001b[1;32m<ipython-input-1-0da231f0229d>\u001b[0m in \u001b[0;36m<module>\u001b[1;34m\u001b[0m\n\u001b[1;32m----> 1\u001b[1;33m \u001b[0mconnection\u001b[0m\u001b[1;33m.\u001b[0m\u001b[0mclose\u001b[0m\u001b[1;33m(\u001b[0m\u001b[1;33m)\u001b[0m\u001b[1;33m\u001b[0m\u001b[1;33m\u001b[0m\u001b[0m\n\u001b[0m",
      "\u001b[1;31mNameError\u001b[0m: name 'connection' is not defined"
     ]
    }
   ],
   "source": [
    "connection.close()"
   ]
  },
  {
   "cell_type": "code",
   "execution_count": null,
   "id": "loving-toddler",
   "metadata": {},
   "outputs": [],
   "source": []
  }
 ],
 "metadata": {
  "kernelspec": {
   "display_name": "Python 3",
   "language": "python",
   "name": "python3"
  },
  "language_info": {
   "codemirror_mode": {
    "name": "ipython",
    "version": 3
   },
   "file_extension": ".py",
   "mimetype": "text/x-python",
   "name": "python",
   "nbconvert_exporter": "python",
   "pygments_lexer": "ipython3",
   "version": "3.8.5"
  }
 },
 "nbformat": 4,
 "nbformat_minor": 5
}
